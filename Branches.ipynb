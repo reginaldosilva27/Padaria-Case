{
 "cells": [
  {
   "cell_type": "code",
   "execution_count": 101,
   "source": [
    "from faker import Faker\n",
    "fake = Faker('pt_BR')\n",
    "import json"
   ],
   "outputs": [],
   "metadata": {}
  },
  {
   "cell_type": "code",
   "execution_count": 117,
   "source": [
    "for x in range(10):\n",
    "  date = fake.date_between(start_date='-30y', end_date='today')\n",
    "  Branch = {\n",
    "    \"branchId\": x + 1,\n",
    "    \"branchName\": \"Paradia Case - Unidade \" + str(x+1), \n",
    "    \"companyName\": \"Paradia Case LTDA\",\n",
    "    \"cnpj\": fake.cnpj(),\n",
    "    \"createdDate\": date.strftime('%d/%m/%Y'),\n",
    "    \"email\": \"padariacase\" + str(x) + \"@labcase.com\",\n",
    "    \"phone\": fake.phone_number(),\n",
    "    \"logo\": \"azure blob link\",\n",
    "    \"addressStreet\": fake.street_name(),\n",
    "    \"addressNumber\": fake.building_number(),\n",
    "    \"addressCity\": fake.city(),\n",
    "    \"addressState\": fake.state_abbr(),\n",
    "    \"addressCountry\": fake.current_country(),\n",
    "    \"addressPostalCode\": fake.postcode(),\n",
    "    \"addressComplement\": fake.neighborhood(),\n",
    "    \"socialMidia\": {\n",
    "        \"facebook\": \"\",\n",
    "        \"instagram\": \"\",\n",
    "        \"linkeDin\": \"\",\n",
    "        \"twiter\": \"\"\n",
    "    }\n",
    "  }\n",
    "  print(Branch)\n"
   ],
   "outputs": [
    {
     "output_type": "stream",
     "name": "stdout",
     "text": [
      "{'branchId': 1, 'branchName': 'Paradia Case - Unidade 1', 'companyName': 'Paradia Case LTDA', 'cnpj': '71.342.658/0001-20', 'createdDate': '16/05/2020', 'email': 'padariacase0@labcase.com', 'phone': '(041) 7345 5229', 'logo': 'azure blob link', 'addressStreet': 'Fazenda Rocha', 'addressNumber': '59', 'addressCity': 'Silva de Minas', 'addressState': 'MG', 'addressCountry': 'Brazil', 'addressPostalCode': '16105962', 'addressComplement': 'Zilah Sposito', 'socialMidia': {'facebook': '', 'instagram': '', 'linkeDin': '', 'twiter': ''}}\n",
      "{'branchId': 2, 'branchName': 'Paradia Case - Unidade 2', 'companyName': 'Paradia Case LTDA', 'cnpj': '47.180.596/0001-12', 'createdDate': '22/07/2008', 'email': 'padariacase1@labcase.com', 'phone': '+55 21 2131-9779', 'logo': 'azure blob link', 'addressStreet': 'Vereda Costa', 'addressNumber': '26', 'addressCity': 'da Costa de Monteiro', 'addressState': 'PA', 'addressCountry': 'Brazil', 'addressPostalCode': '91570-394', 'addressComplement': 'Milionario', 'socialMidia': {'facebook': '', 'instagram': '', 'linkeDin': '', 'twiter': ''}}\n",
      "{'branchId': 3, 'branchName': 'Paradia Case - Unidade 3', 'companyName': 'Paradia Case LTDA', 'cnpj': '89.172.463/0001-44', 'createdDate': '27/09/2004', 'email': 'padariacase2@labcase.com', 'phone': '+55 81 3138-5159', 'logo': 'azure blob link', 'addressStreet': 'Quadra de da Cunha', 'addressNumber': '3', 'addressCity': 'da Cruz de Farias', 'addressState': 'ES', 'addressCountry': 'Brazil', 'addressPostalCode': '42720-610', 'addressComplement': 'Alpes', 'socialMidia': {'facebook': '', 'instagram': '', 'linkeDin': '', 'twiter': ''}}\n",
      "{'branchId': 4, 'branchName': 'Paradia Case - Unidade 4', 'companyName': 'Paradia Case LTDA', 'cnpj': '56.413.972/0001-62', 'createdDate': '12/06/2003', 'email': 'padariacase3@labcase.com', 'phone': '+55 81 5233 5971', 'logo': 'azure blob link', 'addressStreet': 'Passarela de da Costa', 'addressNumber': '9', 'addressCity': 'da Cruz das Flores', 'addressState': 'SC', 'addressCountry': 'Brazil', 'addressPostalCode': '76019-927', 'addressComplement': 'Vila São Paulo', 'socialMidia': {'facebook': '', 'instagram': '', 'linkeDin': '', 'twiter': ''}}\n",
      "{'branchId': 5, 'branchName': 'Paradia Case - Unidade 5', 'companyName': 'Paradia Case LTDA', 'cnpj': '80.923.756/0001-41', 'createdDate': '31/07/2002', 'email': 'padariacase4@labcase.com', 'phone': '21 8710 2633', 'logo': 'azure blob link', 'addressStreet': 'Pátio Costela', 'addressNumber': '8', 'addressCity': 'Porto', 'addressState': 'PB', 'addressCountry': 'Brazil', 'addressPostalCode': '89470259', 'addressComplement': 'Vila Ipiranga', 'socialMidia': {'facebook': '', 'instagram': '', 'linkeDin': '', 'twiter': ''}}\n",
      "{'branchId': 6, 'branchName': 'Paradia Case - Unidade 6', 'companyName': 'Paradia Case LTDA', 'cnpj': '59.086.243/0001-37', 'createdDate': '25/05/2006', 'email': 'padariacase5@labcase.com', 'phone': '(071) 6810-2287', 'logo': 'azure blob link', 'addressStreet': 'Rua Breno Jesus', 'addressNumber': '17', 'addressCity': 'Fernandes da Prata', 'addressState': 'MT', 'addressCountry': 'Brazil', 'addressPostalCode': '84793-979', 'addressComplement': 'Jardim Atlântico', 'socialMidia': {'facebook': '', 'instagram': '', 'linkeDin': '', 'twiter': ''}}\n",
      "{'branchId': 7, 'branchName': 'Paradia Case - Unidade 7', 'companyName': 'Paradia Case LTDA', 'cnpj': '57.649.283/0001-14', 'createdDate': '21/01/2011', 'email': 'padariacase6@labcase.com', 'phone': '+55 (061) 7722-5606', 'logo': 'azure blob link', 'addressStreet': 'Chácara Gonçalves', 'addressNumber': '420', 'addressCity': 'Rocha', 'addressState': 'AL', 'addressCountry': 'Brazil', 'addressPostalCode': '80885082', 'addressComplement': 'Atila De Paiva', 'socialMidia': {'facebook': '', 'instagram': '', 'linkeDin': '', 'twiter': ''}}\n",
      "{'branchId': 8, 'branchName': 'Paradia Case - Unidade 8', 'companyName': 'Paradia Case LTDA', 'cnpj': '71.906.328/0001-10', 'createdDate': '01/09/1992', 'email': 'padariacase7@labcase.com', 'phone': '+55 (084) 8516 9813', 'logo': 'azure blob link', 'addressStreet': 'Vale de Silveira', 'addressNumber': '73', 'addressCity': 'Fogaça de Minas', 'addressState': 'SP', 'addressCountry': 'Brazil', 'addressPostalCode': '61810-037', 'addressComplement': 'Vila Madre Gertrudes 2ª Seção', 'socialMidia': {'facebook': '', 'instagram': '', 'linkeDin': '', 'twiter': ''}}\n",
      "{'branchId': 9, 'branchName': 'Paradia Case - Unidade 9', 'companyName': 'Paradia Case LTDA', 'cnpj': '83.670.245/0001-53', 'createdDate': '13/03/2002', 'email': 'padariacase8@labcase.com', 'phone': '(031) 3023 8874', 'logo': 'azure blob link', 'addressStreet': 'Vila de Martins', 'addressNumber': '75', 'addressCity': 'da Cruz de Minas', 'addressState': 'AL', 'addressCountry': 'Brazil', 'addressPostalCode': '49448666', 'addressComplement': 'Caetano Furquim', 'socialMidia': {'facebook': '', 'instagram': '', 'linkeDin': '', 'twiter': ''}}\n",
      "{'branchId': 10, 'branchName': 'Paradia Case - Unidade 10', 'companyName': 'Paradia Case LTDA', 'cnpj': '43.567.890/0001-20', 'createdDate': '31/05/1995', 'email': 'padariacase9@labcase.com', 'phone': '+55 (061) 4650 0102', 'logo': 'azure blob link', 'addressStreet': 'Feira Barbosa', 'addressNumber': '60', 'addressCity': 'Souza Grande', 'addressState': 'RO', 'addressCountry': 'Brazil', 'addressPostalCode': '38171-278', 'addressComplement': 'Nova Vista', 'socialMidia': {'facebook': '', 'instagram': '', 'linkeDin': '', 'twiter': ''}}\n"
     ]
    }
   ],
   "metadata": {}
  },
  {
   "cell_type": "code",
   "execution_count": 114,
   "source": [],
   "outputs": [
    {
     "output_type": "execute_result",
     "data": {
      "text/plain": [
       "'36.274.591/0001-32'"
      ]
     },
     "metadata": {},
     "execution_count": 114
    }
   ],
   "metadata": {}
  }
 ],
 "metadata": {
  "orig_nbformat": 4,
  "language_info": {
   "name": "python",
   "version": "3.8.2",
   "mimetype": "text/x-python",
   "codemirror_mode": {
    "name": "ipython",
    "version": 3
   },
   "pygments_lexer": "ipython3",
   "nbconvert_exporter": "python",
   "file_extension": ".py"
  },
  "kernelspec": {
   "name": "python3",
   "display_name": "Python 3.8.2 64-bit"
  },
  "interpreter": {
   "hash": "31f2aee4e71d21fbe5cf8b01ff0e069b9275f58929596ceb00d14d90e3e16cd6"
  }
 },
 "nbformat": 4,
 "nbformat_minor": 2
}