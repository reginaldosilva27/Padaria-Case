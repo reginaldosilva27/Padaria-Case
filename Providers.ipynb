{
 "cells": [
  {
   "cell_type": "code",
   "execution_count": null,
   "source": [
    "from faker import Faker\n",
    "fake = Faker('pt_BR')\n",
    "import datetime, json, requests\n",
    "from dateutil.relativedelta import relativedelta\n",
    "import azure.cosmos.cosmos_client as cosmos_client\n",
    "import azure.cosmos.exceptions as exceptions\n",
    "from azure.cosmos.partition_key import PartitionKey\n",
    "\n",
    "\n",
    "HOST = 'https://padariacasedb.documents.azure.com:443/'\n",
    "MASTER_KEY = 'KPxz6QHRsC0rnSC0A2Wi4C2PNVapVy0JU9GpCyUC4LRrD9Xqrmh18BCShyvXTHOrUxyNIFEf848tHGmv221eGA=='\n",
    "DATABASE_ID = 'padariadb'\n",
    "CONTAINER_ID = 'providers'"
   ],
   "outputs": [],
   "metadata": {}
  },
  {
   "cell_type": "code",
   "execution_count": null,
   "source": [
    "client = cosmos_client.CosmosClient(HOST, {'masterKey': MASTER_KEY} )\n",
    "db = client.create_database_if_not_exists(id=DATABASE_ID)\n",
    "container = db.create_container_if_not_exists(\n",
    "    id=CONTAINER_ID, \n",
    "    partition_key=PartitionKey(path=\"/providerId\"),\n",
    "    offer_throughput=400\n",
    ")"
   ],
   "outputs": [],
   "metadata": {}
  },
  {
   "cell_type": "code",
   "execution_count": null,
   "source": [
    "# enable_cross_partition_query should be set to True as the container is partitioned\n",
    "items = list(container.query_items(\n",
    "    query=\"SELECT top 1 c.id as customerId,c.originBranchId as branchId,c.cpf,c.name FROM customer c where RAND() <= @id\",\n",
    "    parameters=[\n",
    "        { \"name\":\"@id\", \"value\": .3 }\n",
    "    ],\n",
    "    enable_cross_partition_query=True\n",
    "))\n"
   ],
   "outputs": [],
   "metadata": {}
  },
  {
   "cell_type": "code",
   "execution_count": null,
   "source": [
    "for x in range(5000):\n",
    "    date = fake.date_between(start_date='-30y', end_date='today')\n",
    "    Provider = {\n",
    "    \"id\": fake.hexify(text='^^^^-^^^^-^^^^-^^^^'),\n",
    "    \"providerId\": x+1,\n",
    "    \"originBranchId\": fake.random_number(3),\n",
    "    \"companyName\": fake.company(),\n",
    "    \"cnpj\": fake.cnpj(),\n",
    "    \"createdDate\": date.strftime('%Y-%m-%d'),\n",
    "    \"email\": fake.email(),\n",
    "    \"phone\": fake.phone_number(),\n",
    "    \"enabled\": True,\n",
    "    \"addresses\": [{\n",
    "        \"addressStreet\": fake.street_name(),\n",
    "        \"addressNumber\": fake.building_number(),\n",
    "        \"addressCity\": fake.city(),\n",
    "        \"addressState\": fake.state_abbr(),\n",
    "        \"addressCountry\": fake.current_country(),\n",
    "        \"addressPostalCode\": fake.postcode(),\n",
    "        \"addressComplement\": fake.neighborhood(),\n",
    "        \"isMain\": True\n",
    "    }],\n",
    "    \"summary\":{\n",
    "        \"totalProducts\": 0,\n",
    "        \"lastSupply\": \"null\"\n",
    "    }\n",
    "    }\n",
    "    print (x)\n",
    "    container.create_item(body=Provider)"
   ],
   "outputs": [],
   "metadata": {}
  },
  {
   "cell_type": "code",
   "execution_count": null,
   "source": [
    "#deletar todos fornecedores\n",
    "item_list = list(container.read_all_items(max_item_count=20))\n",
    "\n",
    "print('Found {0} items'.format(item_list.__len__()))\n",
    "\n",
    "for doc in item_list:\n",
    "    print(doc.get('providerId'))\n",
    "    container.delete_item(item=doc.get('id'), partition_key=doc.get('providerId'))"
   ],
   "outputs": [],
   "metadata": {}
  }
 ],
 "metadata": {
  "orig_nbformat": 4,
  "language_info": {
   "name": "python",
   "version": "3.8.2",
   "mimetype": "text/x-python",
   "codemirror_mode": {
    "name": "ipython",
    "version": 3
   },
   "pygments_lexer": "ipython3",
   "nbconvert_exporter": "python",
   "file_extension": ".py"
  },
  "kernelspec": {
   "name": "python3",
   "display_name": "Python 3.8.2 64-bit"
  },
  "interpreter": {
   "hash": "31f2aee4e71d21fbe5cf8b01ff0e069b9275f58929596ceb00d14d90e3e16cd6"
  }
 },
 "nbformat": 4,
 "nbformat_minor": 2
}