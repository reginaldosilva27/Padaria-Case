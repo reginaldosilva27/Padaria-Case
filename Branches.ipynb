{
 "cells": [
  {
   "cell_type": "code",
   "execution_count": null,
   "source": [
    "from faker import Faker\n",
    "fake = Faker('pt_BR')\n",
    "import json"
   ],
   "outputs": [],
   "metadata": {}
  },
  {
   "cell_type": "code",
   "execution_count": null,
   "source": [
    "for x in range(10):\n",
    "  date = fake.date_between(start_date='-30y', end_date='today')\n",
    "  Branch = {\n",
    "    \"branchId\": x + 1,\n",
    "    \"branchName\": \"Paradia Case - Unidade \" + str(x+1), \n",
    "    \"companyName\": \"Paradia Case LTDA\",\n",
    "    \"cnpj\": fake.cnpj(),\n",
    "    \"createdDate\": date.strftime('%d/%m/%Y'),\n",
    "    \"email\": \"padariacase\" + str(x) + \"@labcase.com\",\n",
    "    \"phone\": fake.phone_number(),\n",
    "    \"logo\": \"azure blob link\",\n",
    "    \"addressStreet\": fake.street_name(),\n",
    "    \"addressNumber\": fake.building_number(),\n",
    "    \"addressCity\": fake.city(),\n",
    "    \"addressState\": fake.state_abbr(),\n",
    "    \"addressCountry\": fake.current_country(),\n",
    "    \"addressPostalCode\": fake.postcode(),\n",
    "    \"addressComplement\": fake.neighborhood(),\n",
    "    \"socialMidia\": {\n",
    "        \"facebook\": \"\",\n",
    "        \"instagram\": \"\",\n",
    "        \"linkeDin\": \"\",\n",
    "        \"twiter\": \"\"\n",
    "    }\n",
    "  }\n",
    "  print(Branch)\n"
   ],
   "outputs": [],
   "metadata": {}
  },
  {
   "cell_type": "code",
   "execution_count": null,
   "source": [],
   "outputs": [],
   "metadata": {}
  }
 ],
 "metadata": {
  "orig_nbformat": 4,
  "language_info": {
   "name": "python",
   "version": "3.8.2",
   "mimetype": "text/x-python",
   "codemirror_mode": {
    "name": "ipython",
    "version": 3
   },
   "pygments_lexer": "ipython3",
   "nbconvert_exporter": "python",
   "file_extension": ".py"
  },
  "kernelspec": {
   "name": "python3",
   "display_name": "Python 3.8.2 64-bit"
  },
  "interpreter": {
   "hash": "31f2aee4e71d21fbe5cf8b01ff0e069b9275f58929596ceb00d14d90e3e16cd6"
  }
 },
 "nbformat": 4,
 "nbformat_minor": 2
}