{
 "cells": [
  {
   "cell_type": "code",
   "execution_count": 3,
   "source": [
    "from faker import Faker\n",
    "fake = Faker('pt_BR')\n",
    "import datetime, json, requests\n",
    "from dateutil.relativedelta import relativedelta"
   ],
   "outputs": [],
   "metadata": {}
  },
  {
   "cell_type": "code",
   "execution_count": 18,
   "source": [
    "if fake.simple_profile()[\"sex\"] == 'F':\n",
    "    firstname = fake.first_name_female()\n",
    "    sex = 'F'\n",
    "    url = 'https://fakeface.rest/face/json?gender=female&minimum_age=999&maximum_age=999'\n",
    "else:\n",
    "    firstname = fake.first_name_male()\n",
    "    sex = 'M'\n",
    "    url = 'https://fakeface.rest/face/json?gender=male&minimum_age=999&maximum_age=999'\n",
    "\n",
    "lastname = fake.last_name()\n",
    "middlename = fake.last_name()\n",
    "domainemail = fake.free_email_domain()\n",
    "username = firstname[0].lower().replace(' ','') + lastname.lower().replace(' ','')\n",
    "email = firstname.lower().replace(' ','') + lastname.lower().replace(' ','') + '@' + domainemail\n",
    "birthdate = fake.date_time_between(start_date='-99y', end_date='-10y')\n",
    "age = relativedelta(datetime.datetime.now(), birthdate)\n",
    "url = url.replace('999',str(age.years))\n",
    "response = requests.get(url)\n",
    "imagelink = response.json()['image_url']\n",
    "if age.years >= 18:\n",
    "    job = fake.job()\n",
    "else:\n",
    "    job = 'Estudante'\n",
    "\n",
    "Customer = {\n",
    "    \"id\": fake.hexify(text='^^^^-^^^^-^^^^-^^^^'),\n",
    "    \"cpf\": fake.cpf(),\n",
    "    \"originBranchId\": fake.random_number(3),\n",
    "    \"name\": firstname + ' ' + middlename + ' ' + lastname, \n",
    "    \"loginname\": username,\n",
    "    \"email\": email,\n",
    "    \"birthdate\": birthdate.strftime('%d/%m/%YT%H:%M:%S'),\n",
    "    \"age\": age.years,\n",
    "    \"job\": fake.job(),\n",
    "    \"phone\": fake.phone_number(),\n",
    "    \"sex\": sex,\n",
    "    \"photo\": imagelink,\n",
    "    \"addresses\": [{\n",
    "        \"addressStreet\": fake.street_name(),\n",
    "        \"addressNumber\": fake.building_number(),\n",
    "        \"addressCity\": fake.city(),\n",
    "        \"addressState\": fake.state_abbr(),\n",
    "        \"addressCountry\": fake.current_country(),\n",
    "        \"addressPostalCode\": fake.postcode(),\n",
    "        \"addressComplement\": fake.neighborhood(),\n",
    "        \"isMain\": True\n",
    "    }],\n",
    "    \"socialMidia\": {\n",
    "        \"facebook\": \"\",\n",
    "        \"instagram\": \"\",\n",
    "        \"linkeDin\": \"\",\n",
    "        \"twiter\": \"\"\n",
    "    },\n",
    "    \"createdDate\": datetime.datetime.now().strftime('%d/%m/%YT%H:%M:%S'),\n",
    "    \"lastRecentsOrders\":[{\n",
    "        \"orderNumber\": \"\"\n",
    "    }],\n",
    "    \"summary\": [{\n",
    "        \"totalOrders\": 0,\n",
    "        \"totalVisits\": 0,\n",
    "        \"averageTicket\": 0,\n",
    "        \"lastOrderDate\": 'null',\n",
    "        \"lastFeedbackStatus\": 'null',\n",
    "        \"lastFeedbackMessage\": 'null'\n",
    "    }],\n",
    "    \"possiblePromotions\": [{\n",
    "        \"productId\": \"\",\n",
    "        \"disacountPercent\": 0\n",
    "    }]\n",
    "}"
   ],
   "outputs": [
    {
     "output_type": "error",
     "ename": "JSONDecodeError",
     "evalue": "Expecting value: line 1 column 1 (char 0)",
     "traceback": [
      "\u001b[0;31m---------------------------------------------------------------------------\u001b[0m",
      "\u001b[0;31mJSONDecodeError\u001b[0m                           Traceback (most recent call last)",
      "\u001b[0;32m/var/folders/cf/z7_5w2n117749lz6500f9nmr0000gn/T/ipykernel_99763/459392152.py\u001b[0m in \u001b[0;36m<module>\u001b[0;34m\u001b[0m\n\u001b[1;32m     17\u001b[0m \u001b[0murl\u001b[0m \u001b[0;34m=\u001b[0m \u001b[0murl\u001b[0m\u001b[0;34m.\u001b[0m\u001b[0mreplace\u001b[0m\u001b[0;34m(\u001b[0m\u001b[0;34m'999'\u001b[0m\u001b[0;34m,\u001b[0m\u001b[0mstr\u001b[0m\u001b[0;34m(\u001b[0m\u001b[0mage\u001b[0m\u001b[0;34m.\u001b[0m\u001b[0myears\u001b[0m\u001b[0;34m)\u001b[0m\u001b[0;34m)\u001b[0m\u001b[0;34m\u001b[0m\u001b[0;34m\u001b[0m\u001b[0m\n\u001b[1;32m     18\u001b[0m \u001b[0mresponse\u001b[0m \u001b[0;34m=\u001b[0m \u001b[0mrequests\u001b[0m\u001b[0;34m.\u001b[0m\u001b[0mget\u001b[0m\u001b[0;34m(\u001b[0m\u001b[0murl\u001b[0m\u001b[0;34m)\u001b[0m\u001b[0;34m\u001b[0m\u001b[0;34m\u001b[0m\u001b[0m\n\u001b[0;32m---> 19\u001b[0;31m \u001b[0mimagelink\u001b[0m \u001b[0;34m=\u001b[0m \u001b[0mresponse\u001b[0m\u001b[0;34m.\u001b[0m\u001b[0mjson\u001b[0m\u001b[0;34m(\u001b[0m\u001b[0;34m)\u001b[0m\u001b[0;34m[\u001b[0m\u001b[0;34m'image_url'\u001b[0m\u001b[0;34m]\u001b[0m\u001b[0;34m\u001b[0m\u001b[0;34m\u001b[0m\u001b[0m\n\u001b[0m\u001b[1;32m     20\u001b[0m \u001b[0;32mif\u001b[0m \u001b[0mage\u001b[0m\u001b[0;34m.\u001b[0m\u001b[0myears\u001b[0m \u001b[0;34m>=\u001b[0m \u001b[0;36m18\u001b[0m\u001b[0;34m:\u001b[0m\u001b[0;34m\u001b[0m\u001b[0;34m\u001b[0m\u001b[0m\n\u001b[1;32m     21\u001b[0m     \u001b[0mjob\u001b[0m \u001b[0;34m=\u001b[0m \u001b[0mfake\u001b[0m\u001b[0;34m.\u001b[0m\u001b[0mjob\u001b[0m\u001b[0;34m(\u001b[0m\u001b[0;34m)\u001b[0m\u001b[0;34m\u001b[0m\u001b[0;34m\u001b[0m\u001b[0m\n",
      "\u001b[0;32m/Library/Python/3.8/site-packages/requests/models.py\u001b[0m in \u001b[0;36mjson\u001b[0;34m(self, **kwargs)\u001b[0m\n\u001b[1;32m    898\u001b[0m                     \u001b[0;31m# used.\u001b[0m\u001b[0;34m\u001b[0m\u001b[0;34m\u001b[0m\u001b[0;34m\u001b[0m\u001b[0m\n\u001b[1;32m    899\u001b[0m                     \u001b[0;32mpass\u001b[0m\u001b[0;34m\u001b[0m\u001b[0;34m\u001b[0m\u001b[0m\n\u001b[0;32m--> 900\u001b[0;31m         \u001b[0;32mreturn\u001b[0m \u001b[0mcomplexjson\u001b[0m\u001b[0;34m.\u001b[0m\u001b[0mloads\u001b[0m\u001b[0;34m(\u001b[0m\u001b[0mself\u001b[0m\u001b[0;34m.\u001b[0m\u001b[0mtext\u001b[0m\u001b[0;34m,\u001b[0m \u001b[0;34m**\u001b[0m\u001b[0mkwargs\u001b[0m\u001b[0;34m)\u001b[0m\u001b[0;34m\u001b[0m\u001b[0;34m\u001b[0m\u001b[0m\n\u001b[0m\u001b[1;32m    901\u001b[0m \u001b[0;34m\u001b[0m\u001b[0m\n\u001b[1;32m    902\u001b[0m     \u001b[0;34m@\u001b[0m\u001b[0mproperty\u001b[0m\u001b[0;34m\u001b[0m\u001b[0;34m\u001b[0m\u001b[0m\n",
      "\u001b[0;32m/Library/Developer/CommandLineTools/Library/Frameworks/Python3.framework/Versions/3.8/lib/python3.8/json/__init__.py\u001b[0m in \u001b[0;36mloads\u001b[0;34m(s, cls, object_hook, parse_float, parse_int, parse_constant, object_pairs_hook, **kw)\u001b[0m\n\u001b[1;32m    355\u001b[0m             \u001b[0mparse_int\u001b[0m \u001b[0;32mis\u001b[0m \u001b[0;32mNone\u001b[0m \u001b[0;32mand\u001b[0m \u001b[0mparse_float\u001b[0m \u001b[0;32mis\u001b[0m \u001b[0;32mNone\u001b[0m \u001b[0;32mand\u001b[0m\u001b[0;34m\u001b[0m\u001b[0;34m\u001b[0m\u001b[0m\n\u001b[1;32m    356\u001b[0m             parse_constant is None and object_pairs_hook is None and not kw):\n\u001b[0;32m--> 357\u001b[0;31m         \u001b[0;32mreturn\u001b[0m \u001b[0m_default_decoder\u001b[0m\u001b[0;34m.\u001b[0m\u001b[0mdecode\u001b[0m\u001b[0;34m(\u001b[0m\u001b[0ms\u001b[0m\u001b[0;34m)\u001b[0m\u001b[0;34m\u001b[0m\u001b[0;34m\u001b[0m\u001b[0m\n\u001b[0m\u001b[1;32m    358\u001b[0m     \u001b[0;32mif\u001b[0m \u001b[0mcls\u001b[0m \u001b[0;32mis\u001b[0m \u001b[0;32mNone\u001b[0m\u001b[0;34m:\u001b[0m\u001b[0;34m\u001b[0m\u001b[0;34m\u001b[0m\u001b[0m\n\u001b[1;32m    359\u001b[0m         \u001b[0mcls\u001b[0m \u001b[0;34m=\u001b[0m \u001b[0mJSONDecoder\u001b[0m\u001b[0;34m\u001b[0m\u001b[0;34m\u001b[0m\u001b[0m\n",
      "\u001b[0;32m/Library/Developer/CommandLineTools/Library/Frameworks/Python3.framework/Versions/3.8/lib/python3.8/json/decoder.py\u001b[0m in \u001b[0;36mdecode\u001b[0;34m(self, s, _w)\u001b[0m\n\u001b[1;32m    335\u001b[0m \u001b[0;34m\u001b[0m\u001b[0m\n\u001b[1;32m    336\u001b[0m         \"\"\"\n\u001b[0;32m--> 337\u001b[0;31m         \u001b[0mobj\u001b[0m\u001b[0;34m,\u001b[0m \u001b[0mend\u001b[0m \u001b[0;34m=\u001b[0m \u001b[0mself\u001b[0m\u001b[0;34m.\u001b[0m\u001b[0mraw_decode\u001b[0m\u001b[0;34m(\u001b[0m\u001b[0ms\u001b[0m\u001b[0;34m,\u001b[0m \u001b[0midx\u001b[0m\u001b[0;34m=\u001b[0m\u001b[0m_w\u001b[0m\u001b[0;34m(\u001b[0m\u001b[0ms\u001b[0m\u001b[0;34m,\u001b[0m \u001b[0;36m0\u001b[0m\u001b[0;34m)\u001b[0m\u001b[0;34m.\u001b[0m\u001b[0mend\u001b[0m\u001b[0;34m(\u001b[0m\u001b[0;34m)\u001b[0m\u001b[0;34m)\u001b[0m\u001b[0;34m\u001b[0m\u001b[0;34m\u001b[0m\u001b[0m\n\u001b[0m\u001b[1;32m    338\u001b[0m         \u001b[0mend\u001b[0m \u001b[0;34m=\u001b[0m \u001b[0m_w\u001b[0m\u001b[0;34m(\u001b[0m\u001b[0ms\u001b[0m\u001b[0;34m,\u001b[0m \u001b[0mend\u001b[0m\u001b[0;34m)\u001b[0m\u001b[0;34m.\u001b[0m\u001b[0mend\u001b[0m\u001b[0;34m(\u001b[0m\u001b[0;34m)\u001b[0m\u001b[0;34m\u001b[0m\u001b[0;34m\u001b[0m\u001b[0m\n\u001b[1;32m    339\u001b[0m         \u001b[0;32mif\u001b[0m \u001b[0mend\u001b[0m \u001b[0;34m!=\u001b[0m \u001b[0mlen\u001b[0m\u001b[0;34m(\u001b[0m\u001b[0ms\u001b[0m\u001b[0;34m)\u001b[0m\u001b[0;34m:\u001b[0m\u001b[0;34m\u001b[0m\u001b[0;34m\u001b[0m\u001b[0m\n",
      "\u001b[0;32m/Library/Developer/CommandLineTools/Library/Frameworks/Python3.framework/Versions/3.8/lib/python3.8/json/decoder.py\u001b[0m in \u001b[0;36mraw_decode\u001b[0;34m(self, s, idx)\u001b[0m\n\u001b[1;32m    353\u001b[0m             \u001b[0mobj\u001b[0m\u001b[0;34m,\u001b[0m \u001b[0mend\u001b[0m \u001b[0;34m=\u001b[0m \u001b[0mself\u001b[0m\u001b[0;34m.\u001b[0m\u001b[0mscan_once\u001b[0m\u001b[0;34m(\u001b[0m\u001b[0ms\u001b[0m\u001b[0;34m,\u001b[0m \u001b[0midx\u001b[0m\u001b[0;34m)\u001b[0m\u001b[0;34m\u001b[0m\u001b[0;34m\u001b[0m\u001b[0m\n\u001b[1;32m    354\u001b[0m         \u001b[0;32mexcept\u001b[0m \u001b[0mStopIteration\u001b[0m \u001b[0;32mas\u001b[0m \u001b[0merr\u001b[0m\u001b[0;34m:\u001b[0m\u001b[0;34m\u001b[0m\u001b[0;34m\u001b[0m\u001b[0m\n\u001b[0;32m--> 355\u001b[0;31m             \u001b[0;32mraise\u001b[0m \u001b[0mJSONDecodeError\u001b[0m\u001b[0;34m(\u001b[0m\u001b[0;34m\"Expecting value\"\u001b[0m\u001b[0;34m,\u001b[0m \u001b[0ms\u001b[0m\u001b[0;34m,\u001b[0m \u001b[0merr\u001b[0m\u001b[0;34m.\u001b[0m\u001b[0mvalue\u001b[0m\u001b[0;34m)\u001b[0m \u001b[0;32mfrom\u001b[0m \u001b[0;32mNone\u001b[0m\u001b[0;34m\u001b[0m\u001b[0;34m\u001b[0m\u001b[0m\n\u001b[0m\u001b[1;32m    356\u001b[0m         \u001b[0;32mreturn\u001b[0m \u001b[0mobj\u001b[0m\u001b[0;34m,\u001b[0m \u001b[0mend\u001b[0m\u001b[0;34m\u001b[0m\u001b[0;34m\u001b[0m\u001b[0m\n",
      "\u001b[0;31mJSONDecodeError\u001b[0m: Expecting value: line 1 column 1 (char 0)"
     ]
    }
   ],
   "metadata": {}
  },
  {
   "cell_type": "code",
   "execution_count": 16,
   "source": [
    "print(json.dumps(json.loads(json.dumps(Customer,indent=4)),indent=4))\n",
    "print (datetime.datetime.now().strftime('%d/%m/%Y'))"
   ],
   "outputs": [
    {
     "output_type": "stream",
     "name": "stdout",
     "text": [
      "{\n",
      "    \"id\": \"6d0a-5421-328d-029c\",\n",
      "    \"cpf\": \"680.195.372-95\",\n",
      "    \"originBranchId\": 142,\n",
      "    \"name\": \"Luiza Moura Nogueira\",\n",
      "    \"loginname\": \"lnogueira\",\n",
      "    \"email\": \"luizanogueira@gmail.com\",\n",
      "    \"birthdate\": \"08/02/1962T10:17:31\",\n",
      "    \"age\": 59,\n",
      "    \"job\": \"Traumatologista\",\n",
      "    \"phone\": \"+55 (031) 9321 1779\",\n",
      "    \"sex\": \"F\",\n",
      "    \"photo\": \"https://content.fakeface.rest/female_59_fb0bab828e093b952fd7e956f62db43ab4c9d468.jpg\",\n",
      "    \"addresses\": [\n",
      "        {\n",
      "            \"addressStreet\": \"\\u00c1rea de Ramos\",\n",
      "            \"addressNumber\": \"81\",\n",
      "            \"addressCity\": \"Silveira das Pedras\",\n",
      "            \"addressState\": \"BA\",\n",
      "            \"addressCountry\": \"Brazil\",\n",
      "            \"addressPostalCode\": \"83399-532\",\n",
      "            \"addressComplement\": \"Vila Suzana Segunda Se\\u00e7\\u00e3o\",\n",
      "            \"isMain\": true\n",
      "        }\n",
      "    ],\n",
      "    \"socialMidia\": {\n",
      "        \"facebook\": \"\",\n",
      "        \"instagram\": \"\",\n",
      "        \"linkeDin\": \"\",\n",
      "        \"twiter\": \"\"\n",
      "    },\n",
      "    \"createdDate\": \"18/08/2021\",\n",
      "    \"lastRecentsOrders\": [\n",
      "        {\n",
      "            \"orderNumber\": \"\"\n",
      "        }\n",
      "    ],\n",
      "    \"summary\": [\n",
      "        {\n",
      "            \"totalOrders\": 0,\n",
      "            \"totalVisits\": 0,\n",
      "            \"averageTicket\": 0,\n",
      "            \"lastOrderDate\": \"null\",\n",
      "            \"lastFeedbackStatus\": \"null\",\n",
      "            \"lastFeedbackMessage\": \"null\"\n",
      "        }\n",
      "    ],\n",
      "    \"possiblePromotions\": [\n",
      "        {\n",
      "            \"productId\": \"\",\n",
      "            \"disacountPercent\": 0\n",
      "        }\n",
      "    ]\n",
      "}\n",
      "18/08/2021\n"
     ]
    }
   ],
   "metadata": {}
  },
  {
   "cell_type": "code",
   "execution_count": 72,
   "source": [
    "if fake.simple_profile()[\"sex\"] == 'F':\n",
    "    firstname = fake.first_name_female()\n",
    "    sex = 'F'\n",
    "    url = 'https://fakeface.rest/face/json?gender=female&minimum_age=999&maximum_age=999'\n",
    "else:\n",
    "    firstname = fake.first_name_male()\n",
    "    sex = 'M'\n",
    "    url = 'https://fakeface.rest/face/json?gender=male&minimum_age=999&maximum_age=999'\n",
    "\n",
    "lastname = fake.last_name()\n",
    "middlename = fake.last_name()\n",
    "domainemail = fake.free_email_domain()\n",
    "username = firstname[0].lower().replace(' ', '') + lastname.lower().replace(' ', '')\n",
    "email = firstname.lower().replace(' ', '') + lastname.lower().replace(' ', '') + '@' + domainemail\n",
    "birthdate = fake.date_between(start_date='-90y', end_date='-10y')\n",
    "age = relativedelta(datetime.datetime.now(), birthdate)\n",
    "url = url.replace('999', str(age.years))\n",
    "response = requests.get(url)\n",
    "\n",
    "if response.status_code == 200:\n",
    "    imagelink = response.json()['image_url']\n",
    "\n",
    "if age.years >= 18:\n",
    "    job = fake.job()\n",
    "else:\n",
    "    job = 'Estudante'"
   ],
   "outputs": [],
   "metadata": {}
  },
  {
   "cell_type": "code",
   "execution_count": 73,
   "source": [
    "print(lastname) \n",
    "print(middlename)\n",
    "print(domainemail) \n",
    "print(username )\n",
    "print(email)\n",
    "print(birthdate) \n",
    "print(age.years)\n",
    "print(url)\n",
    "print(imagelink)\n",
    "print(response.status_code)"
   ],
   "outputs": [
    {
     "output_type": "stream",
     "name": "stdout",
     "text": [
      "Nunes\n",
      "Castro\n",
      "bol.com.br\n",
      "lnunes\n",
      "lucasnunes@bol.com.br\n",
      "1957-11-03\n",
      "63\n",
      "https://fakeface.rest/face/json?gender=male&minimum_age=63&maximum_age=63\n",
      "https://content.fakeface.rest/male_63_d5280119326f23592afe93d3b89eca5473cf7baa.jpg\n",
      "200\n"
     ]
    }
   ],
   "metadata": {}
  },
  {
   "cell_type": "code",
   "execution_count": 10,
   "source": [
    "birthdate = fake.date_time_between(start_date='-99y', end_date='-10y')\n"
   ],
   "outputs": [],
   "metadata": {}
  },
  {
   "cell_type": "code",
   "execution_count": 22,
   "source": [
    "datetime.datetime.now().strftime('%Y-%m-%dT%H:%M:%S')"
   ],
   "outputs": [
    {
     "output_type": "execute_result",
     "data": {
      "text/plain": [
       "'2021-08-18T18:21:46'"
      ]
     },
     "metadata": {},
     "execution_count": 22
    }
   ],
   "metadata": {}
  }
 ],
 "metadata": {
  "orig_nbformat": 4,
  "language_info": {
   "name": "python",
   "version": "3.8.2",
   "mimetype": "text/x-python",
   "codemirror_mode": {
    "name": "ipython",
    "version": 3
   },
   "pygments_lexer": "ipython3",
   "nbconvert_exporter": "python",
   "file_extension": ".py"
  },
  "kernelspec": {
   "name": "python3",
   "display_name": "Python 3.8.2 64-bit"
  },
  "interpreter": {
   "hash": "31f2aee4e71d21fbe5cf8b01ff0e069b9275f58929596ceb00d14d90e3e16cd6"
  }
 },
 "nbformat": 4,
 "nbformat_minor": 2
}