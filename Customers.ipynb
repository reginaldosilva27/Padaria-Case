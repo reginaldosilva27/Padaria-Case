{
 "cells": [
  {
   "cell_type": "code",
   "execution_count": null,
   "source": [
    "from faker import Faker\n",
    "fake = Faker('pt_BR')\n",
    "import datetime, json, requests\n",
    "from dateutil.relativedelta import relativedelta"
   ],
   "outputs": [],
   "metadata": {}
  },
  {
   "cell_type": "code",
   "execution_count": null,
   "source": [
    "if fake.simple_profile()[\"sex\"] == 'F':\n",
    "    firstname = fake.first_name_female()\n",
    "    sex = 'F'\n",
    "    url = 'https://fakeface.rest/face/json?gender=female&minimum_age=999&maximum_age=999'\n",
    "else:\n",
    "    firstname = fake.first_name_male()\n",
    "    sex = 'M'\n",
    "    url = 'https://fakeface.rest/face/json?gender=male&minimum_age=999&maximum_age=999'\n",
    "\n",
    "lastname = fake.last_name()\n",
    "middlename = fake.last_name()\n",
    "domainemail = fake.free_email_domain()\n",
    "username = firstname[0].lower().replace(' ','') + lastname.lower().replace(' ','')\n",
    "email = firstname.lower().replace(' ','') + lastname.lower().replace(' ','') + '@' + domainemail\n",
    "birthdate = fake.date_time_between(start_date='-99y', end_date='-10y')\n",
    "age = relativedelta(datetime.datetime.now(), birthdate)\n",
    "url = url.replace('999',str(age.years))\n",
    "response = requests.get(url)\n",
    "imagelink = response.json()['image_url']\n",
    "if age.years >= 18:\n",
    "    job = fake.job()\n",
    "else:\n",
    "    job = 'Estudante'\n",
    "\n",
    "Customer = {\n",
    "    \"id\": fake.hexify(text='^^^^-^^^^-^^^^-^^^^'),\n",
    "    \"cpf\": fake.cpf(),\n",
    "    \"originBranchId\": fake.random_number(3),\n",
    "    \"name\": firstname + ' ' + middlename + ' ' + lastname, \n",
    "    \"loginname\": username,\n",
    "    \"email\": email,\n",
    "    \"birthdate\": birthdate.strftime('%d/%m/%YT%H:%M:%S'),\n",
    "    \"age\": age.years,\n",
    "    \"job\": fake.job(),\n",
    "    \"phone\": fake.phone_number(),\n",
    "    \"sex\": sex,\n",
    "    \"photo\": imagelink,\n",
    "    \"addresses\": [{\n",
    "        \"addressStreet\": fake.street_name(),\n",
    "        \"addressNumber\": fake.building_number(),\n",
    "        \"addressCity\": fake.city(),\n",
    "        \"addressState\": fake.state_abbr(),\n",
    "        \"addressCountry\": fake.current_country(),\n",
    "        \"addressPostalCode\": fake.postcode(),\n",
    "        \"addressComplement\": fake.neighborhood(),\n",
    "        \"isMain\": True\n",
    "    }],\n",
    "    \"socialMidia\": {\n",
    "        \"facebook\": \"\",\n",
    "        \"instagram\": \"\",\n",
    "        \"linkeDin\": \"\",\n",
    "        \"twiter\": \"\"\n",
    "    },\n",
    "    \"createdDate\": datetime.datetime.now().strftime('%Y-%m-%dT%H:%M:%S'),\n",
    "    \"lastRecentsOrders\":[{\n",
    "        \"orderNumber\": \"\"\n",
    "    }],\n",
    "    \"summary\": [{\n",
    "        \"totalOrders\": 0,\n",
    "        \"totalVisits\": 0,\n",
    "        \"averageTicket\": 0,\n",
    "        \"lastOrderDate\": 'null',\n",
    "        \"lastFeedbackStatus\": 'null',\n",
    "        \"lastFeedbackMessage\": 'null'\n",
    "    }],\n",
    "    \"possiblePromotions\": [{\n",
    "        \"productId\": \"\",\n",
    "        \"disacountPercent\": 0\n",
    "    }]\n",
    "}"
   ],
   "outputs": [],
   "metadata": {}
  },
  {
   "cell_type": "code",
   "execution_count": null,
   "source": [
    "print(json.dumps(json.loads(json.dumps(Customer,indent=4)),indent=4))\n",
    "print (datetime.datetime.now().strftime('%d/%m/%Y'))"
   ],
   "outputs": [],
   "metadata": {}
  },
  {
   "cell_type": "code",
   "execution_count": null,
   "source": [
    "if fake.simple_profile()[\"sex\"] == 'F':\n",
    "    firstname = fake.first_name_female()\n",
    "    sex = 'F'\n",
    "    url = 'https://fakeface.rest/face/json?gender=female&minimum_age=999&maximum_age=999'\n",
    "else:\n",
    "    firstname = fake.first_name_male()\n",
    "    sex = 'M'\n",
    "    url = 'https://fakeface.rest/face/json?gender=male&minimum_age=999&maximum_age=999'\n",
    "\n",
    "lastname = fake.last_name()\n",
    "middlename = fake.last_name()\n",
    "domainemail = fake.free_email_domain()\n",
    "username = firstname[0].lower().replace(' ', '') + lastname.lower().replace(' ', '')\n",
    "email = firstname.lower().replace(' ', '') + lastname.lower().replace(' ', '') + '@' + domainemail\n",
    "birthdate = fake.date_between(start_date='-90y', end_date='-10y')\n",
    "age = relativedelta(datetime.datetime.now(), birthdate)\n",
    "url = url.replace('999', str(age.years))\n",
    "response = requests.get(url)\n",
    "\n",
    "if response.status_code == 200:\n",
    "    imagelink = response.json()['image_url']\n",
    "\n",
    "if age.years >= 18:\n",
    "    job = fake.job()\n",
    "else:\n",
    "    job = 'Estudante'"
   ],
   "outputs": [],
   "metadata": {}
  },
  {
   "cell_type": "code",
   "execution_count": null,
   "source": [
    "print(lastname) \n",
    "print(middlename)\n",
    "print(domainemail) \n",
    "print(username )\n",
    "print(email)\n",
    "print(birthdate) \n",
    "print(age.years)\n",
    "print(url)\n",
    "print(imagelink)\n",
    "print(response.status_code)"
   ],
   "outputs": [],
   "metadata": {}
  },
  {
   "cell_type": "code",
   "execution_count": null,
   "source": [
    "birthdate = fake.date_time_between(start_date='-99y', end_date='-10y')\n"
   ],
   "outputs": [],
   "metadata": {}
  },
  {
   "cell_type": "code",
   "execution_count": null,
   "source": [
    "datetime.datetime.now().strftime('%Y-%m-%dT%H:%M:%S')"
   ],
   "outputs": [],
   "metadata": {}
  }
 ],
 "metadata": {
  "orig_nbformat": 4,
  "language_info": {
   "name": "python",
   "version": "3.8.2",
   "mimetype": "text/x-python",
   "codemirror_mode": {
    "name": "ipython",
    "version": 3
   },
   "pygments_lexer": "ipython3",
   "nbconvert_exporter": "python",
   "file_extension": ".py"
  },
  "kernelspec": {
   "name": "python3",
   "display_name": "Python 3.8.2 64-bit"
  },
  "interpreter": {
   "hash": "31f2aee4e71d21fbe5cf8b01ff0e069b9275f58929596ceb00d14d90e3e16cd6"
  }
 },
 "nbformat": 4,
 "nbformat_minor": 2
}