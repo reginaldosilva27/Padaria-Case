{
 "cells": [
  {
   "cell_type": "code",
   "execution_count": 59,
   "source": [
    "from faker import Faker\n",
    "fake = Faker('pt_BR')\n",
    "import json"
   ],
   "outputs": [],
   "metadata": {}
  },
  {
   "cell_type": "code",
   "execution_count": 60,
   "source": [
    "Customer = {\n",
    "    \"id\": fake.hexify(text='^^^^-^^^^-^^^^-^^^^'),\n",
    "    \"cpf\": fake.cpf(),\n",
    "    \"originBranchId\": fake.random_number(3),\n",
    "    \"name\": fake.name(), \n",
    "    \"loginname\": \"\",\n",
    "    \"email\": \"\",\n",
    "    \"birthdate\": \"\",\n",
    "    \"age\": fake.random_number(2),\n",
    "    \"career\": \"\",\n",
    "    \"phone\": \"\",\n",
    "    \"photo\": \"azure blob link\",\n",
    "    \"addresses\": [{\n",
    "        \"addressStreet\": \"\",\n",
    "        \"addressNumber\": \"\",\n",
    "        \"addressCity\": \"\",\n",
    "        \"addressState\": \"\",\n",
    "        \"addressCountry\": \"\",\n",
    "        \"addressPostalCode\": \"\",\n",
    "        \"addressComplement\": \"\",\n",
    "        \"isMain\": True\n",
    "    }],\n",
    "    \"socialMidia\": {\n",
    "        \"facebook\": \"\",\n",
    "        \"instagram\": \"\",\n",
    "        \"linkeDin\": \"\",\n",
    "        \"twiter\": \"\"\n",
    "    },\n",
    "    \"createdDate\": \"\",\n",
    "    \"lastRecentsOrders\":[{\n",
    "        \"orderNumber\": \"\"\n",
    "    }],\n",
    "    \"summary\": [{\n",
    "        \"totalOrders\": 10,\n",
    "        \"totalVisits\": 9,\n",
    "        \"averageTicket\": 85.00,\n",
    "        \"lastOrderDate\": \"20210731\",\n",
    "        \"lastFeedbackStatus\": \"Positive\",\n",
    "        \"lastFeedbackMessage\": \"Pão estava ótimo e bem quentinho, atendimento super rápido\"\n",
    "    }],\n",
    "    \"possiblePromotions\": [{\n",
    "        \"productId\": \"\",\n",
    "        \"disacountPercent\": 10\n",
    "    }]\n",
    "}"
   ],
   "outputs": [],
   "metadata": {}
  },
  {
   "cell_type": "code",
   "execution_count": 61,
   "source": [
    "CustomerJson = json.dumps(Customer,indent=4)\n",
    "CustomerJson2 = json.loads(CustomerJson)"
   ],
   "outputs": [],
   "metadata": {}
  },
  {
   "cell_type": "code",
   "execution_count": 62,
   "source": [
    "print(json.dumps(CustomerJson2,indent=4))\n"
   ],
   "outputs": [
    {
     "output_type": "stream",
     "name": "stdout",
     "text": [
      "{\n",
      "    \"id\": \"732a-03f5-19e7-98d1\",\n",
      "    \"cpf\": \"716.904.328-96\",\n",
      "    \"originBranchId\": 566,\n",
      "    \"name\": \"Lucas Duarte\",\n",
      "    \"loginname\": \"\",\n",
      "    \"email\": \"\",\n",
      "    \"birthdate\": \"\",\n",
      "    \"age\": 81,\n",
      "    \"career\": \"\",\n",
      "    \"phone\": \"\",\n",
      "    \"photo\": \"azure blob link\",\n",
      "    \"addresses\": [\n",
      "        {\n",
      "            \"addressStreet\": \"\",\n",
      "            \"addressNumber\": \"\",\n",
      "            \"addressCity\": \"\",\n",
      "            \"addressState\": \"\",\n",
      "            \"addressCountry\": \"\",\n",
      "            \"addressPostalCode\": \"\",\n",
      "            \"addressComplement\": \"\",\n",
      "            \"isMain\": true\n",
      "        }\n",
      "    ],\n",
      "    \"socialMidia\": {\n",
      "        \"facebook\": \"\",\n",
      "        \"instagram\": \"\",\n",
      "        \"linkeDin\": \"\",\n",
      "        \"twiter\": \"\"\n",
      "    },\n",
      "    \"createdDate\": \"\",\n",
      "    \"lastRecentsOrders\": [\n",
      "        {\n",
      "            \"orderNumber\": \"\"\n",
      "        }\n",
      "    ],\n",
      "    \"summary\": [\n",
      "        {\n",
      "            \"totalOrders\": 10,\n",
      "            \"totalVisits\": 9,\n",
      "            \"averageTicket\": 85.0,\n",
      "            \"lastOrderDate\": \"20210731\",\n",
      "            \"lastFeedbackStatus\": \"Positive\",\n",
      "            \"lastFeedbackMessage\": \"P\\u00e3o estava \\u00f3timo e bem quentinho, atendimento super r\\u00e1pido\"\n",
      "        }\n",
      "    ],\n",
      "    \"possiblePromotions\": [\n",
      "        {\n",
      "            \"productId\": \"\",\n",
      "            \"disacountPercent\": 10\n",
      "        }\n",
      "    ]\n",
      "}\n"
     ]
    }
   ],
   "metadata": {}
  },
  {
   "cell_type": "code",
   "execution_count": null,
   "source": [
    "print(CustomerJson2[\"summary\"][0][\"totalOrders\"])"
   ],
   "outputs": [],
   "metadata": {}
  },
  {
   "cell_type": "code",
   "execution_count": 54,
   "source": [
    "fake.random_number(3)"
   ],
   "outputs": [
    {
     "output_type": "execute_result",
     "data": {
      "text/plain": [
       "422"
      ]
     },
     "metadata": {},
     "execution_count": 54
    }
   ],
   "metadata": {}
  },
  {
   "cell_type": "code",
   "execution_count": 58,
   "source": [
    "print(\"CPF Gerado\")"
   ],
   "outputs": [
    {
     "output_type": "stream",
     "name": "stdout",
     "text": [
      "CPF Gerado\n"
     ]
    }
   ],
   "metadata": {}
  }
 ],
 "metadata": {
  "orig_nbformat": 4,
  "language_info": {
   "name": "python",
   "version": "3.8.2",
   "mimetype": "text/x-python",
   "codemirror_mode": {
    "name": "ipython",
    "version": 3
   },
   "pygments_lexer": "ipython3",
   "nbconvert_exporter": "python",
   "file_extension": ".py"
  },
  "kernelspec": {
   "name": "python3",
   "display_name": "Python 3.8.2 64-bit"
  },
  "interpreter": {
   "hash": "31f2aee4e71d21fbe5cf8b01ff0e069b9275f58929596ceb00d14d90e3e16cd6"
  }
 },
 "nbformat": 4,
 "nbformat_minor": 2
}