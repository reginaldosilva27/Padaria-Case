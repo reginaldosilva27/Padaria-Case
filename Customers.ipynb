{
 "cells": [
  {
   "cell_type": "code",
   "execution_count": 94,
   "source": [
    "from faker import Faker\n",
    "fake = Faker('pt_BR')\n",
    "import datetime\n",
    "import json\n",
    "from dateutil.relativedelta import relativedelta"
   ],
   "outputs": [],
   "metadata": {}
  },
  {
   "cell_type": "code",
   "execution_count": 3,
   "source": [
    "profile = fake.profile()"
   ],
   "outputs": [],
   "metadata": {}
  },
  {
   "cell_type": "code",
   "execution_count": 4,
   "source": [
    "Customer = {\n",
    "    \"id\": fake.hexify(text='^^^^-^^^^-^^^^-^^^^'),\n",
    "    \"cpf\": fake.cpf(),\n",
    "    \"originBranchId\": fake.random_number(3),\n",
    "    \"name\": profile[\"name\"], \n",
    "    \"loginname\": \"\",\n",
    "    \"email\": \"\",\n",
    "    \"birthdate\": \"\",\n",
    "    \"age\": fake.random_number(2),\n",
    "    \"job\": profile[\"job\"],\n",
    "    \"phone\": \"\",\n",
    "    \"sex\": \"\",\n",
    "    \"photo\": \"azure blob link\",\n",
    "    \"addresses\": [{\n",
    "        \"addressStreet\": fake.street_name(),\n",
    "        \"addressNumber\": fake.building_number(),\n",
    "        \"addressCity\": fake.city(),\n",
    "        \"addressState\": fake.state_abbr(),\n",
    "        \"addressCountry\": fake.current_country(),\n",
    "        \"addressPostalCode\": fake.postcode(),\n",
    "        \"addressComplement\": fake.neighborhood(),\n",
    "        \"isMain\": True\n",
    "    }],\n",
    "    \"socialMidia\": {\n",
    "        \"facebook\": \"\",\n",
    "        \"instagram\": \"\",\n",
    "        \"linkeDin\": \"\",\n",
    "        \"twiter\": \"\"\n",
    "    },\n",
    "    \"createdDate\": \"\",\n",
    "    \"lastRecentsOrders\":[{\n",
    "        \"orderNumber\": \"\"\n",
    "    }],\n",
    "    \"summary\": [{\n",
    "        \"totalOrders\": 0,\n",
    "        \"totalVisits\": 0,\n",
    "        \"averageTicket\": 0,\n",
    "        \"lastOrderDate\": null,\n",
    "        \"lastFeedbackStatus\": null,\n",
    "        \"lastFeedbackMessage\": null\n",
    "    }],\n",
    "    \"possiblePromotions\": [{\n",
    "        \"productId\": \"\",\n",
    "        \"disacountPercent\": 0\n",
    "    }]\n",
    "}"
   ],
   "outputs": [],
   "metadata": {}
  },
  {
   "cell_type": "code",
   "execution_count": 9,
   "source": [
    "CustomerJson = json.dumps(Customer,indent=4)\n",
    "CustomerJson2 = json.loads(CustomerJson)"
   ],
   "outputs": [],
   "metadata": {}
  },
  {
   "cell_type": "code",
   "execution_count": 10,
   "source": [
    "print(json.dumps(CustomerJson2,indent=4))\n"
   ],
   "outputs": [
    {
     "output_type": "stream",
     "name": "stdout",
     "text": [
      "{\n",
      "    \"id\": \"0982-99f8-a258-53a0\",\n",
      "    \"cpf\": \"516.249.308-24\",\n",
      "    \"originBranchId\": 196,\n",
      "    \"name\": \"Evelyn Ara\\u00fajo\",\n",
      "    \"loginname\": \"\",\n",
      "    \"email\": \"\",\n",
      "    \"birthdate\": \"\",\n",
      "    \"age\": 8,\n",
      "    \"job\": \"Gestor de qualidade\",\n",
      "    \"phone\": \"\",\n",
      "    \"sex\": \"\",\n",
      "    \"photo\": \"azure blob link\",\n",
      "    \"addresses\": [\n",
      "        {\n",
      "            \"addressStreet\": \"\",\n",
      "            \"addressNumber\": \"\",\n",
      "            \"addressCity\": \"\",\n",
      "            \"addressState\": \"\",\n",
      "            \"addressCountry\": \"\",\n",
      "            \"addressPostalCode\": \"\",\n",
      "            \"addressComplement\": \"\",\n",
      "            \"isMain\": true\n",
      "        }\n",
      "    ],\n",
      "    \"socialMidia\": {\n",
      "        \"facebook\": \"\",\n",
      "        \"instagram\": \"\",\n",
      "        \"linkeDin\": \"\",\n",
      "        \"twiter\": \"\"\n",
      "    },\n",
      "    \"createdDate\": \"\",\n",
      "    \"lastRecentsOrders\": [\n",
      "        {\n",
      "            \"orderNumber\": \"\"\n",
      "        }\n",
      "    ],\n",
      "    \"summary\": [\n",
      "        {\n",
      "            \"totalOrders\": 10,\n",
      "            \"totalVisits\": 9,\n",
      "            \"averageTicket\": 85.0,\n",
      "            \"lastOrderDate\": \"20210731\",\n",
      "            \"lastFeedbackStatus\": \"Positive\",\n",
      "            \"lastFeedbackMessage\": \"P\\u00e3o estava \\u00f3timo e bem quentinho, atendimento super r\\u00e1pido\"\n",
      "        }\n",
      "    ],\n",
      "    \"possiblePromotions\": [\n",
      "        {\n",
      "            \"productId\": \"\",\n",
      "            \"disacountPercent\": 10\n",
      "        }\n",
      "    ]\n",
      "}\n"
     ]
    }
   ],
   "metadata": {}
  },
  {
   "cell_type": "code",
   "execution_count": 67,
   "source": [
    "firstname = fake.first_name()\n",
    "lastname = fake.last_name()\n",
    "domainemail = fake.free_email_domain()\n"
   ],
   "outputs": [],
   "metadata": {}
  },
  {
   "cell_type": "code",
   "execution_count": 68,
   "source": [
    "username = firstname[0].lower() + lastname.lower()\n",
    "email = firstname.lower() + lastname.lower() + '@' + domainemail"
   ],
   "outputs": [],
   "metadata": {}
  },
  {
   "cell_type": "code",
   "execution_count": 69,
   "source": [
    "print (firstname)\n",
    "print(lastname)\n",
    "print(username)\n",
    "print(email)"
   ],
   "outputs": [
    {
     "output_type": "stream",
     "name": "stdout",
     "text": [
      "Mirella\n",
      "Ferreira\n",
      "mferreira\n",
      "mirellaferreira@bol.com.br\n"
     ]
    }
   ],
   "metadata": {}
  },
  {
   "cell_type": "code",
   "execution_count": 95,
   "source": [
    " date = fake.date_between(start_date='-99y', end_date='today')\n",
    "now = datetime.datetime.now()"
   ],
   "outputs": [],
   "metadata": {}
  },
  {
   "cell_type": "code",
   "execution_count": 97,
   "source": [
    "difference = relativedelta(now, date)\n",
    "print(\"My years: \"+str(difference.years))"
   ],
   "outputs": [
    {
     "output_type": "stream",
     "name": "stdout",
     "text": [
      "My years: 95\n"
     ]
    }
   ],
   "metadata": {}
  }
 ],
 "metadata": {
  "orig_nbformat": 4,
  "language_info": {
   "name": "python",
   "version": "3.8.2",
   "mimetype": "text/x-python",
   "codemirror_mode": {
    "name": "ipython",
    "version": 3
   },
   "pygments_lexer": "ipython3",
   "nbconvert_exporter": "python",
   "file_extension": ".py"
  },
  "kernelspec": {
   "name": "python3",
   "display_name": "Python 3.8.2 64-bit"
  },
  "interpreter": {
   "hash": "31f2aee4e71d21fbe5cf8b01ff0e069b9275f58929596ceb00d14d90e3e16cd6"
  }
 },
 "nbformat": 4,
 "nbformat_minor": 2
}