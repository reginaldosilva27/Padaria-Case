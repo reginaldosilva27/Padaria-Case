{
 "cells": [
  {
   "cell_type": "code",
   "execution_count": null,
   "source": [
    "from faker import Faker\n",
    "fake = Faker('pt_BR')\n",
    "import datetime, json, requests, random\n",
    "from dateutil.relativedelta import relativedelta\n",
    "import azure.cosmos.cosmos_client as cosmos_client\n",
    "import azure.cosmos.exceptions as exceptions\n",
    "from azure.cosmos.partition_key import PartitionKey\n",
    "\n",
    "\n",
    "HOST = 'https://padariacasedb.documents.azure.com:443/'\n",
    "MASTER_KEY = 'KPxz6QHRsC0rnSC0A2Wi4C2PNVapVy0JU9GpCyUC4LRrD9Xqrmh18BCShyvXTHOrUxyNIFEf848tHGmv221eGA=='\n",
    "DATABASE_ID = 'padariadb'"
   ],
   "outputs": [],
   "metadata": {}
  },
  {
   "cell_type": "code",
   "execution_count": null,
   "source": [
    "client = cosmos_client.CosmosClient(HOST, {'masterKey': MASTER_KEY} )\n",
    "db = client.create_database_if_not_exists(id=DATABASE_ID)\n",
    "container_products = db.create_container_if_not_exists(\n",
    "    id='products', \n",
    "    partition_key=PartitionKey(path=\"/productId\"),\n",
    "    offer_throughput=400\n",
    ")"
   ],
   "outputs": [],
   "metadata": {}
  },
  {
   "cell_type": "code",
   "execution_count": null,
   "source": [
    "items_providers = list(container_products.query_items(\n",
    "    query=\"SELECT top 1 * FROM products p where RAND() <= @id\",\n",
    "    parameters=[\n",
    "        { \"name\":\"@id\", \"value\": .3 }\n",
    "    ],\n",
    "    enable_cross_partition_query=True\n",
    "))\n",
    "for item in items_providers:\n",
    "    print(item.get(\"productId\"))\n",
    "    print (item.get('summary'))\n",
    "    item.get('summary')['lastQuantity'] = item.get('summary')['lastQuantity'] + 1\n",
    "    #container_provider.upsert_item(body=item)"
   ],
   "outputs": [],
   "metadata": {}
  },
  {
   "cell_type": "code",
   "execution_count": null,
   "source": [
    "items_providers = list(container_products.query_items(\n",
    "    query=\"SELECT top 100 * FROM products p where RAND() <= @id ORDER BY p.id desc\",\n",
    "    parameters=[\n",
    "        { \"name\":\"@id\", \"value\": .3 }\n",
    "    ],\n",
    "    enable_cross_partition_query=True\n",
    "))\n",
    "for item in items_providers:\n",
    "    qtd = random.randint(10,100)\n",
    "    price = round(random.random() * 1000,2)\n",
    "    Product = {\n",
    "        \"id\": fake.hexify(text='^^^^-^^^^-^^^^-^^^^'),\n",
    "        \"productId\": item.get(\"productId\"),\n",
    "        \"branchId\": fake.random_number(3),\n",
    "        \"entryDate\": datetime.datetime.now().strftime('%Y-%m-%dT%H:%M:%S'),\n",
    "        \"unit\": \"UN\",\n",
    "        \"quantity\": qtd,\n",
    "        \"price\": price\n",
    "        }\n",
    "    item.get('summary')['lastQuantity'] = item.get('summary')['lastQuantity'] + qtd\n",
    "    item.get('summary')['lastPrice'] = price\n",
    "    item.get('summary')['laststockEntry'] = datetime.datetime.now().strftime('%Y-%m-%dT%H:%M:%S')\n",
    "    container_products.upsert_item(body=item)\n",
    "    print (Product)"
   ],
   "outputs": [],
   "metadata": {}
  },
  {
   "cell_type": "code",
   "execution_count": null,
   "source": [],
   "outputs": [],
   "metadata": {}
  }
 ],
 "metadata": {
  "orig_nbformat": 4,
  "language_info": {
   "name": "python",
   "version": "3.8.2",
   "mimetype": "text/x-python",
   "codemirror_mode": {
    "name": "ipython",
    "version": 3
   },
   "pygments_lexer": "ipython3",
   "nbconvert_exporter": "python",
   "file_extension": ".py"
  },
  "kernelspec": {
   "name": "python3",
   "display_name": "Python 3.8.2 64-bit"
  },
  "interpreter": {
   "hash": "31f2aee4e71d21fbe5cf8b01ff0e069b9275f58929596ceb00d14d90e3e16cd6"
  }
 },
 "nbformat": 4,
 "nbformat_minor": 2
}