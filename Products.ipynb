{
 "cells": [
  {
   "cell_type": "code",
   "execution_count": null,
   "source": [
    "from faker import Faker\n",
    "fake = Faker('pt_BR')\n",
    "import datetime, json, requests, random\n",
    "from dateutil.relativedelta import relativedelta\n",
    "import azure.cosmos.cosmos_client as cosmos_client\n",
    "import azure.cosmos.exceptions as exceptions\n",
    "from azure.cosmos.partition_key import PartitionKey\n",
    "\n",
    "\n",
    "HOST = 'https://padariacasedb.documents.azure.com:443/'\n",
    "MASTER_KEY = 'KPxz6QHRsC0rnSC0A2Wi4C2PNVapVy0JU9GpCyUC4LRrD9Xqrmh18BCShyvXTHOrUxyNIFEf848tHGmv221eGA=='\n",
    "DATABASE_ID = 'padariadb'\n",
    "CONTAINER_ID = 'products'"
   ],
   "outputs": [],
   "metadata": {}
  },
  {
   "cell_type": "code",
   "execution_count": null,
   "source": [
    "client = cosmos_client.CosmosClient(HOST, {'masterKey': MASTER_KEY} )\n",
    "db = client.create_database_if_not_exists(id=DATABASE_ID)\n",
    "container = db.create_container_if_not_exists(\n",
    "    id=CONTAINER_ID, \n",
    "    partition_key=PartitionKey(path=\"/productId\"),\n",
    "    offer_throughput=400\n",
    ")\n",
    "container_provider = db.create_container_if_not_exists(\n",
    "    id='providers', \n",
    "    partition_key=PartitionKey(path=\"/providerId\"),\n",
    "    offer_throughput=400\n",
    ")"
   ],
   "outputs": [],
   "metadata": {}
  },
  {
   "cell_type": "code",
   "execution_count": null,
   "source": [
    "items_providers = list(container_provider.query_items(\n",
    "    query=\"SELECT top 100 * FROM providers p where RAND() <= @id\",\n",
    "    parameters=[\n",
    "        { \"name\":\"@id\", \"value\": .009 }\n",
    "    ],\n",
    "    enable_cross_partition_query=True\n",
    "))"
   ],
   "outputs": [],
   "metadata": {}
  },
  {
   "cell_type": "code",
   "execution_count": null,
   "source": [
    "for item in items_providers:\n",
    "    print(item.get(\"providerId\"))\n",
    "    print (item.get('summary'))\n",
    "    item.get('summary')['totalProducts'] = item.get('summary')['totalProducts'] + 1\n",
    "    #container_provider.upsert_item(body=item)"
   ],
   "outputs": [],
   "metadata": {}
  },
  {
   "cell_type": "code",
   "execution_count": null,
   "source": [
    "items_providers = list(container_provider.query_items(\n",
    "    query=\"SELECT top 1000 * FROM providers p where RAND() <= @id\",\n",
    "    parameters=[\n",
    "        { \"name\":\"@id\", \"value\": .3 }\n",
    "    ],\n",
    "    enable_cross_partition_query=True\n",
    "))\n",
    "x = 1\n",
    "category = [\"frios\", \"confeitaria\", \"lanches\",\"salgados\",\"mercado\",\"pães\",\"tortas\",\"doces\",\"gelados\",\"laticínios\",\"bebidas frias\",\"bebidas quentes\",\"refeição\"]\n",
    "for item in items_providers:\n",
    "    n = random.randint(0,len(category)-1)\n",
    "    date = fake.date_between(start_date='-30y', end_date='today')\n",
    "    expirationdate = fake.date_between(start_date='today', end_date='+10y')\n",
    "    Product = {\n",
    "        \"id\": fake.hexify(text='^^^^-^^^^-^^^^-^^^^'),\n",
    "        \"productId\": x,\n",
    "        \"description\": \"produto \" + str(x),\n",
    "        \"providerId\": item.get(\"providerId\"),\n",
    "        \"originBranchId\": fake.random_number(3),\n",
    "        \"createdDate\": date.strftime('%Y-%m-%d'),\n",
    "        \"category\": category[n],\n",
    "        \"enabled\": True,\n",
    "        \"unit\": \"UN\",\n",
    "        \"summary\":{\n",
    "            \"lastQuantity\": 0,\n",
    "            \"lastPrice\": 0,\n",
    "            \"laststockEntry\": \"null\",\n",
    "            \"lastOrderate\":  \"null\",\n",
    "            \"salesAmount\": 0,\n",
    "            \"totalSales\": 0.00\n",
    "        }\n",
    "        }\n",
    "    container.create_item(body=Product)\n",
    "    item.get('summary')['totalProducts'] = item.get('summary')['totalProducts'] + 1\n",
    "    container_provider.upsert_item(body=item)\n",
    "    x=x+1\n",
    "    print(Product)"
   ],
   "outputs": [],
   "metadata": {}
  },
  {
   "cell_type": "code",
   "execution_count": null,
   "source": [
    "#deletar todos fornecedores\n",
    "item_list = list(container.read_all_items(max_item_count=20))\n",
    "\n",
    "print('Found {0} items'.format(item_list.__len__()))\n",
    "\n",
    "for doc in item_list:\n",
    "    print(doc.get('productId'))\n",
    "    container.delete_item(item=doc.get('id'), partition_key=doc.get('productId'))"
   ],
   "outputs": [],
   "metadata": {}
  }
 ],
 "metadata": {
  "orig_nbformat": 4,
  "language_info": {
   "name": "python",
   "version": "3.8.2",
   "mimetype": "text/x-python",
   "codemirror_mode": {
    "name": "ipython",
    "version": 3
   },
   "pygments_lexer": "ipython3",
   "nbconvert_exporter": "python",
   "file_extension": ".py"
  },
  "kernelspec": {
   "name": "python3",
   "display_name": "Python 3.8.2 64-bit"
  },
  "interpreter": {
   "hash": "31f2aee4e71d21fbe5cf8b01ff0e069b9275f58929596ceb00d14d90e3e16cd6"
  }
 },
 "nbformat": 4,
 "nbformat_minor": 2
}