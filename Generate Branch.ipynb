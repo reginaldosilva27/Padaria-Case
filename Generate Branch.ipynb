{
 "cells": [
  {
   "cell_type": "code",
   "execution_count": null,
   "source": [
    "import azure.cosmos.cosmos_client as cosmos_client\n",
    "import azure.cosmos.exceptions as exceptions\n",
    "from azure.cosmos.partition_key import PartitionKey\n",
    "import datetime\n",
    "from faker import Faker\n",
    "fake = Faker('pt_BR')\n",
    "import json\n",
    "\n",
    "HOST = 'https://padariacasedb.documents.azure.com:443/'\n",
    "MASTER_KEY = 'KPxz6QHRsC0rnSC0A2Wi4C2PNVapVy0JU9GpCyUC4LRrD9Xqrmh18BCShyvXTHOrUxyNIFEf848tHGmv221eGA=='\n",
    "DATABASE_ID = 'padariadb'\n",
    "CONTAINER_ID = 'branches'"
   ],
   "outputs": [],
   "metadata": {}
  },
  {
   "cell_type": "code",
   "execution_count": null,
   "source": [
    " date = fake.date_between(start_date='-30y', end_date='today')\n",
    " Branch = {\n",
    "   \"id\": fake.hexify(text='^^^^-^^^^-^^^^-^^^^'),\n",
    "    \"branchId\": 1,\n",
    "    \"branchName\": \"Paradia Case - Unidade 1\", \n",
    "    \"companyName\": \"Paradia Case LTDA\",\n",
    "    \"cnpj\": fake.cnpj(),\n",
    "    \"createdDate\": date.strftime('%d/%m/%Y'),\n",
    "    \"email\": \"padariacase1@labcase.com\",\n",
    "    \"phone\": fake.phone_number(),\n",
    "    \"logo\": \"azure blob link\",\n",
    "    \"addressStreet\": fake.street_name(),\n",
    "    \"addressNumber\": fake.building_number(),\n",
    "    \"addressCity\": fake.city(),\n",
    "    \"addressState\": fake.state_abbr(),\n",
    "    \"addressCountry\": fake.current_country(),\n",
    "    \"addressPostalCode\": fake.postcode(),\n",
    "    \"addressComplement\": fake.neighborhood(),\n",
    "    \"socialMidia\": {\n",
    "        \"facebook\": \"\",\n",
    "        \"instagram\": \"\",\n",
    "        \"linkeDin\": \"\",\n",
    "        \"twiter\": \"\"\n",
    "    }\n",
    "  }"
   ],
   "outputs": [],
   "metadata": {}
  },
  {
   "cell_type": "code",
   "execution_count": null,
   "source": [
    "client = cosmos_client.CosmosClient(HOST, {'masterKey': MASTER_KEY} )"
   ],
   "outputs": [],
   "metadata": {}
  },
  {
   "cell_type": "code",
   "execution_count": null,
   "source": [
    "db = client.create_database_if_not_exists(id=DATABASE_ID)"
   ],
   "outputs": [],
   "metadata": {}
  },
  {
   "cell_type": "code",
   "execution_count": null,
   "source": [
    "container = db.create_container_if_not_exists(\n",
    "    id=CONTAINER_ID, \n",
    "    partition_key=PartitionKey(path=\"/branchid\"),\n",
    "    offer_throughput=400\n",
    ")"
   ],
   "outputs": [],
   "metadata": {}
  },
  {
   "cell_type": "code",
   "execution_count": null,
   "source": [
    "container.create_item(body=Branch)"
   ],
   "outputs": [],
   "metadata": {}
  },
  {
   "cell_type": "code",
   "execution_count": null,
   "source": [
    "for x in range(999):\n",
    "  date = fake.date_between(start_date='-30y', end_date='today')\n",
    "  Branch = {\n",
    "    \"id\": fake.hexify(text='^^^^-^^^^-^^^^-^^^^'),\n",
    "    \"branchId\": x + 1,\n",
    "    \"branchName\": \"Paradia Case - Unidade \" + str(x+1), \n",
    "    \"companyName\": \"Paradia Case LTDA\",\n",
    "    \"cnpj\": fake.cnpj(),\n",
    "    \"createdDate\": date.strftime('%d/%m/%Y'),\n",
    "    \"email\": \"padariacase\" + str(x+1) + \"@labcase.com\",\n",
    "    \"phone\": fake.phone_number(),\n",
    "    \"logo\": \"azure blob link\",\n",
    "    \"addressStreet\": fake.street_name(),\n",
    "    \"addressNumber\": fake.building_number(),\n",
    "    \"addressCity\": fake.city(),\n",
    "    \"addressState\": fake.state_abbr(),\n",
    "    \"addressCountry\": fake.current_country(),\n",
    "    \"addressPostalCode\": fake.postcode(),\n",
    "    \"addressComplement\": fake.neighborhood(),\n",
    "    \"socialMidia\": {\n",
    "        \"facebook\": \"\",\n",
    "        \"instagram\": \"\",\n",
    "        \"linkeDin\": \"\",\n",
    "        \"twiter\": \"\"\n",
    "    }\n",
    "  }\n",
    "  container.create_item(body=Branch)\n"
   ],
   "outputs": [],
   "metadata": {}
  },
  {
   "cell_type": "code",
   "execution_count": null,
   "source": [
    "item_list = list(container.read_all_items(max_item_count=20))\n",
    "\n",
    "print('Found {0} items'.format(item_list.__len__()))\n",
    "\n",
    "for doc in item_list:\n",
    "    print(doc.get('branchId'))\n",
    "    container.delete_item(item=doc.get('id'), partition_key=doc.get('branchId'))"
   ],
   "outputs": [],
   "metadata": {}
  }
 ],
 "metadata": {
  "orig_nbformat": 4,
  "language_info": {
   "name": "python",
   "version": "3.8.2",
   "mimetype": "text/x-python",
   "codemirror_mode": {
    "name": "ipython",
    "version": 3
   },
   "pygments_lexer": "ipython3",
   "nbconvert_exporter": "python",
   "file_extension": ".py"
  },
  "kernelspec": {
   "name": "python3",
   "display_name": "Python 3.8.2 64-bit"
  },
  "interpreter": {
   "hash": "31f2aee4e71d21fbe5cf8b01ff0e069b9275f58929596ceb00d14d90e3e16cd6"
  }
 },
 "nbformat": 4,
 "nbformat_minor": 2
}