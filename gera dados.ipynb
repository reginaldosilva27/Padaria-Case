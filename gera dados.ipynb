{
 "metadata": {
  "language_info": {
   "codemirror_mode": {
    "name": "ipython",
    "version": 3
   },
   "file_extension": ".py",
   "mimetype": "text/x-python",
   "name": "python",
   "nbconvert_exporter": "python",
   "pygments_lexer": "ipython3",
   "version": "3.8.2"
  },
  "orig_nbformat": 4,
  "kernelspec": {
   "name": "python3",
   "display_name": "Python 3.8.2 64-bit"
  },
  "interpreter": {
   "hash": "31f2aee4e71d21fbe5cf8b01ff0e069b9275f58929596ceb00d14d90e3e16cd6"
  }
 },
 "nbformat": 4,
 "nbformat_minor": 2,
 "cells": [
  {
   "cell_type": "code",
   "execution_count": 3,
   "metadata": {},
   "outputs": [],
   "source": [
    "from faker import Faker\n",
    "fake = Faker()"
   ]
  },
  {
   "cell_type": "code",
   "execution_count": 51,
   "metadata": {},
   "outputs": [
    {
     "output_type": "execute_result",
     "data": {
      "text/plain": [
       "'Vitória Aragão'"
      ]
     },
     "metadata": {},
     "execution_count": 51
    }
   ],
   "source": [
    "fake.name()"
   ]
  },
  {
   "cell_type": "code",
   "execution_count": 56,
   "metadata": {},
   "outputs": [
    {
     "output_type": "execute_result",
     "data": {
      "text/plain": [
       "'Conjunto de Vieira\\nLindéia\\n78873144 da Luz de Campos / MG'"
      ]
     },
     "metadata": {},
     "execution_count": 56
    }
   ],
   "source": [
    "fake.address()"
   ]
  },
  {
   "cell_type": "code",
   "execution_count": 57,
   "metadata": {},
   "outputs": [
    {
     "output_type": "stream",
     "name": "stdout",
     "text": [
      "Maysa Rodrigues\nMaria Vitória Barbosa\nEmilly Moura\nLorenzo Souza\nDiogo Moreira\nIsabelly Almeida\nRafael Cardoso\nClarice Oliveira\nEnzo Gabriel Melo\nPedro Lucas da Cruz\n"
     ]
    }
   ],
   "source": [
    "for _ in range(10):\n",
    "  print(fake.name())"
   ]
  },
  {
   "cell_type": "code",
   "execution_count": 16,
   "metadata": {},
   "outputs": [],
   "source": [
    "from faker import Faker\n",
    "fake = Faker(['pt_BR'])"
   ]
  },
  {
   "cell_type": "code",
   "execution_count": 17,
   "metadata": {},
   "outputs": [
    {
     "output_type": "stream",
     "name": "stdout",
     "text": [
      "Sra. Isabel Jesus\nIgor Silveira\nDr. Francisco Silveira\nCamila Moreira\nNicolas Nunes\nNatália da Conceição\nDra. Carolina Rezende\nRaquel Nunes\nOtávio da Costa\nSophie Nascimento\n"
     ]
    }
   ],
   "source": [
    "for _ in range(10):\n",
    "    print(fake.name())"
   ]
  },
  {
   "cell_type": "code",
   "execution_count": null,
   "metadata": {},
   "outputs": [],
   "source": []
  }
 ]
}