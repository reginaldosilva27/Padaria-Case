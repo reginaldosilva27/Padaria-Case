{
 "cells": [
  {
   "cell_type": "code",
   "execution_count": null,
   "source": [
    "import asyncio\n",
    "from azure.eventhub.aio import EventHubProducerClient\n",
    "from azure.eventhub import EventData\n"
   ],
   "outputs": [],
   "metadata": {}
  },
  {
   "cell_type": "code",
   "execution_count": null,
   "source": [
    "import asyncio\n",
    "from azure.eventhub.aio import EventHubProducerClient\n",
    "from azure.eventhub import EventData\n",
    "\n",
    "async def run():\n",
    "    # Create a producer client to send messages to the event hub.\n",
    "    # Specify a connection string to your event hubs namespace and\n",
    "    # the event hub name.\n",
    "    producer = EventHubProducerClient.from_connection_string(conn_str=\"Endpoint=sb://padaria-eventhubs.servicebus.windows.net/;SharedAccessKeyName=RootManageSharedAccessKey;SharedAccessKey=OW1DDFjQvnKNb81LzhcQxF9BRwotHPC73y09ffl+6BI=\", eventhub_name=\"customer-topic\")\n",
    "    async with producer:\n",
    "        # Create a batch.\n",
    "        event_data_batch = await producer.create_batch()\n",
    "\n",
    "        # Add events to the batch.\n",
    "        event_data_batch.add(EventData('First event '))\n",
    "        event_data_batch.add(EventData('Second event'))\n",
    "        event_data_batch.add(EventData('Third event'))\n",
    "\n",
    "        # Send the batch of events to the event hub.\n",
    "        await producer.send_batch(event_data_batch)\n",
    "\n",
    "loop = asyncio.get_event_loop()\n",
    "loop.run_until_complete(run())"
   ],
   "outputs": [],
   "metadata": {}
  }
 ],
 "metadata": {
  "orig_nbformat": 4,
  "language_info": {
   "name": "python",
   "version": "3.8.2",
   "mimetype": "text/x-python",
   "codemirror_mode": {
    "name": "ipython",
    "version": 3
   },
   "pygments_lexer": "ipython3",
   "nbconvert_exporter": "python",
   "file_extension": ".py"
  },
  "kernelspec": {
   "name": "python3",
   "display_name": "Python 3.8.2 64-bit"
  },
  "interpreter": {
   "hash": "31f2aee4e71d21fbe5cf8b01ff0e069b9275f58929596ceb00d14d90e3e16cd6"
  }
 },
 "nbformat": 4,
 "nbformat_minor": 2
}