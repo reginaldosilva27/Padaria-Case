{
 "cells": [
  {
   "cell_type": "code",
   "execution_count": null,
   "source": [
    "import asyncio\n",
    "from azure.eventhub.aio import EventHubConsumerClient\n",
    "from azure.eventhub.extensions.checkpointstoreblobaio import BlobCheckpointStore\n",
    "\n",
    "\n",
    "async def on_event(partition_context, event):\n",
    "    # Print the event data.\n",
    "    print(\"Received the event: \\\"{}\\\" from the partition with ID: \\\"{}\\\"\".format(event.body_as_str(encoding='UTF-8'), partition_context.partition_id))\n",
    "\n",
    "    # Update the checkpoint so that the program doesn't read the events\n",
    "    # that it has already read when you run it next time.\n",
    "    await partition_context.update_checkpoint(event)\n",
    "\n",
    "async def main():\n",
    "    # Create an Azure blob checkpoint store to store the checkpoints.\n",
    "    checkpoint_store = BlobCheckpointStore.from_connection_string(\"https://padarialabcase.blob.core.windows.net\", \"eventhubs-offset\")\n",
    "\n",
    "    # Create a consumer client for the event hub.\n",
    "    client = EventHubConsumerClient.from_connection_string(\"Endpoint=sb://padaria-eventhubs.servicebus.windows.net/;SharedAccessKeyName=RootManageSharedAccessKey;SharedAccessKey=OW1DDFjQvnKNb81LzhcQxF9BRwotHPC73y09ffl+6BI=\", consumer_group=\"$Default\", eventhub_name=\"customer-topic\", checkpoint_store=checkpoint_store)\n",
    "    async with client:\n",
    "        # Call the receive method. Read from the beginning of the partition (starting_position: \"-1\")\n",
    "        await client.receive(on_event=on_event,  starting_position=\"-1\")\n",
    "\n",
    "if __name__ == '__main__':\n",
    "    loop = asyncio.get_event_loop()\n",
    "    # Run the main method.\n",
    "    loop.run_until_complete(main())"
   ],
   "outputs": [],
   "metadata": {}
  }
 ],
 "metadata": {
  "orig_nbformat": 4,
  "language_info": {
   "name": "python",
   "version": "3.8.2",
   "mimetype": "text/x-python",
   "codemirror_mode": {
    "name": "ipython",
    "version": 3
   },
   "pygments_lexer": "ipython3",
   "nbconvert_exporter": "python",
   "file_extension": ".py"
  },
  "kernelspec": {
   "name": "python3",
   "display_name": "Python 3.8.2 64-bit"
  },
  "interpreter": {
   "hash": "31f2aee4e71d21fbe5cf8b01ff0e069b9275f58929596ceb00d14d90e3e16cd6"
  }
 },
 "nbformat": 4,
 "nbformat_minor": 2
}