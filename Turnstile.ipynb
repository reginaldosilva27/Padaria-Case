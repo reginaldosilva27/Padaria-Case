{
 "cells": [
  {
   "cell_type": "code",
   "execution_count": null,
   "source": [
    "from faker import Faker\n",
    "fake = Faker('pt_BR')\n",
    "import datetime, json, requests, asyncio, random\n",
    "from dateutil.relativedelta import relativedelta\n",
    "import azure.cosmos.cosmos_client as cosmos_client\n",
    "import azure.cosmos.exceptions as exceptions\n",
    "from azure.cosmos.partition_key import PartitionKey\n",
    "from azure.eventhub.aio import EventHubProducerClient\n",
    "from azure.eventhub import EventData\n",
    "\n",
    "HOST = 'https://padariacasedb.documents.azure.com:443/'\n",
    "MASTER_KEY = 'KPxz6QHRsC0rnSC0A2Wi4C2PNVapVy0JU9GpCyUC4LRrD9Xqrmh18BCShyvXTHOrUxyNIFEf848tHGmv221eGA=='\n",
    "DATABASE_ID = 'padariadb'\n",
    "CONTAINER_ID = 'customer'"
   ],
   "outputs": [],
   "metadata": {}
  },
  {
   "cell_type": "code",
   "execution_count": null,
   "source": [
    "client = cosmos_client.CosmosClient(HOST, {'masterKey': MASTER_KEY} )\n",
    "db = client.create_database_if_not_exists(id=DATABASE_ID)\n",
    "container = db.create_container_if_not_exists(\n",
    "    id=CONTAINER_ID, \n",
    "    partition_key=PartitionKey(path=\"/cpf\"),\n",
    ")"
   ],
   "outputs": [],
   "metadata": {}
  },
  {
   "cell_type": "code",
   "execution_count": null,
   "source": [
    "# enable_cross_partition_query should be set to True as the container is partitioned\n",
    "items = list(container.query_items(\n",
    "    query=\"SELECT top 1 c.id as customerId,c.originBranchId as branchId,c.cpf,c.name FROM customer c where RAND() <= @id\",\n",
    "    parameters=[\n",
    "        { \"name\":\"@id\", \"value\": .3 }\n",
    "    ],\n",
    "    enable_cross_partition_query=True\n",
    "))\n",
    "\n",
    "print('Item queried by Id {0}'.format(items[0].get(\"customerId\")))\n",
    "print('Item queried by Id {0}'.format(items[0].get(\"cpf\")))\n",
    "print('Item queried by Id {0}'.format(items[0].get(\"branchId\")))\n",
    "print('Item queried by Id {0}'.format(items[0].get(\"name\")))"
   ],
   "outputs": [],
   "metadata": {}
  },
  {
   "cell_type": "code",
   "execution_count": null,
   "source": [
    "Turnstile = {\n",
    "    \"id\": fake.hexify(text='^^^^-^^^^-^^^^-^^^^'),\n",
    "    \"branchId\": fake.random_number(3),\n",
    "    \"customerId\": random.randint(0,1000), \n",
    "    \"type\": 1,\n",
    "    \"cardID\": random.randint(0,100),\n",
    "    \"dtLog\": datetime.datetime.now().strftime('%Y-%m-%dT%H:%M:%S'),\n",
    "    \"products\": [\n",
    "      {\n",
    "        \"productId\": 0,\n",
    "        \"quantity\": 0,\n",
    "        \"price\": 0\n",
    "      }\n",
    "    ]\n",
    "  }\n",
    "\n",
    "print(Turnstile)\n"
   ],
   "outputs": [],
   "metadata": {}
  },
  {
   "cell_type": "code",
   "execution_count": null,
   "source": [
    "async def run():\n",
    "  producer = EventHubProducerClient.from_connection_string(conn_str=\"Endpoint=sb://padaria-eventhubs.servicebus.windows.net/;SharedAccessKeyName=RootManageSharedAccessKey;SharedAccessKey=OW1DDFjQvnKNb81LzhcQxF9BRwotHPC73y09ffl+6BI=\", eventhub_name=\"turnstile-topic\")\n",
    "  async with producer:\n",
    "      # Create a batch.\n",
    "      event_data_batch = await producer.create_batch()\n",
    "\n",
    "      # Add events to the batch.\n",
    "      event_data_batch.add(EventData(json.dumps(Turnstile, indent=4)))\n",
    "\n",
    "      # Send the batch of events to the event hub.\n",
    "      await producer.send_batch(event_data_batch)\n",
    "      print(\"sent event\")\n",
    "\n",
    "loop = asyncio.get_event_loop()\n",
    "loop.run_until_complete(run())"
   ],
   "outputs": [],
   "metadata": {}
  }
 ],
 "metadata": {
  "orig_nbformat": 4,
  "language_info": {
   "name": "python",
   "version": "3.8.2",
   "mimetype": "text/x-python",
   "codemirror_mode": {
    "name": "ipython",
    "version": 3
   },
   "pygments_lexer": "ipython3",
   "nbconvert_exporter": "python",
   "file_extension": ".py"
  },
  "kernelspec": {
   "name": "python3",
   "display_name": "Python 3.8.2 64-bit"
  },
  "interpreter": {
   "hash": "31f2aee4e71d21fbe5cf8b01ff0e069b9275f58929596ceb00d14d90e3e16cd6"
  }
 },
 "nbformat": 4,
 "nbformat_minor": 2
}